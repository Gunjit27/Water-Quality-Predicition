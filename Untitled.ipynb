{
 "cells": [
  {
   "cell_type": "code",
   "execution_count": 1,
   "id": "7f4bc237-b871-497a-8013-a7e0b94ca52a",
   "metadata": {},
   "outputs": [],
   "source": [
    "import tensorflow as tf\n",
    "from tensorflow import keras\n",
    "import numpy as np\n",
    "import pandas as pd\n",
    "from sklearn.metrics import classification_report, confusion_matrix"
   ]
  },
  {
   "cell_type": "code",
   "execution_count": 2,
   "id": "9a763ff7-68be-43fb-843b-aba81f009b72",
   "metadata": {},
   "outputs": [
    {
     "data": {
      "text/html": [
       "<div>\n",
       "<style scoped>\n",
       "    .dataframe tbody tr th:only-of-type {\n",
       "        vertical-align: middle;\n",
       "    }\n",
       "\n",
       "    .dataframe tbody tr th {\n",
       "        vertical-align: top;\n",
       "    }\n",
       "\n",
       "    .dataframe thead th {\n",
       "        text-align: right;\n",
       "    }\n",
       "</style>\n",
       "<table border=\"1\" class=\"dataframe\">\n",
       "  <thead>\n",
       "    <tr style=\"text-align: right;\">\n",
       "      <th></th>\n",
       "      <th>Index</th>\n",
       "      <th>pH</th>\n",
       "      <th>Iron</th>\n",
       "      <th>Nitrate</th>\n",
       "      <th>Chloride</th>\n",
       "      <th>Lead</th>\n",
       "      <th>Zinc</th>\n",
       "      <th>Color</th>\n",
       "      <th>Turbidity</th>\n",
       "      <th>Fluoride</th>\n",
       "      <th>...</th>\n",
       "      <th>Chlorine</th>\n",
       "      <th>Manganese</th>\n",
       "      <th>Total Dissolved Solids</th>\n",
       "      <th>Source</th>\n",
       "      <th>Water Temperature</th>\n",
       "      <th>Air Temperature</th>\n",
       "      <th>Month</th>\n",
       "      <th>Day</th>\n",
       "      <th>Time of Day</th>\n",
       "      <th>Target</th>\n",
       "    </tr>\n",
       "  </thead>\n",
       "  <tbody>\n",
       "    <tr>\n",
       "      <th>376073</th>\n",
       "      <td>376073</td>\n",
       "      <td>6.833363</td>\n",
       "      <td>0.068247</td>\n",
       "      <td>6.460843</td>\n",
       "      <td>189.068107</td>\n",
       "      <td>2.480000e-95</td>\n",
       "      <td>1.598219</td>\n",
       "      <td>Yellow</td>\n",
       "      <td>2.147577</td>\n",
       "      <td>0.444878</td>\n",
       "      <td>...</td>\n",
       "      <td>3.755115</td>\n",
       "      <td>0.124750</td>\n",
       "      <td>493.587600</td>\n",
       "      <td>Stream</td>\n",
       "      <td>NaN</td>\n",
       "      <td>31.259679</td>\n",
       "      <td>August</td>\n",
       "      <td>28.0</td>\n",
       "      <td>18.0</td>\n",
       "      <td>1</td>\n",
       "    </tr>\n",
       "    <tr>\n",
       "      <th>705030</th>\n",
       "      <td>705030</td>\n",
       "      <td>10.086205</td>\n",
       "      <td>0.453066</td>\n",
       "      <td>4.051497</td>\n",
       "      <td>116.887059</td>\n",
       "      <td>1.350000e-166</td>\n",
       "      <td>1.049976</td>\n",
       "      <td>Faint Yellow</td>\n",
       "      <td>0.304679</td>\n",
       "      <td>0.298943</td>\n",
       "      <td>...</td>\n",
       "      <td>4.764108</td>\n",
       "      <td>0.176982</td>\n",
       "      <td>100.901232</td>\n",
       "      <td>Lake</td>\n",
       "      <td>19.184595</td>\n",
       "      <td>14.210674</td>\n",
       "      <td>February</td>\n",
       "      <td>7.0</td>\n",
       "      <td>15.0</td>\n",
       "      <td>1</td>\n",
       "    </tr>\n",
       "    <tr>\n",
       "      <th>1023090</th>\n",
       "      <td>1023090</td>\n",
       "      <td>7.680894</td>\n",
       "      <td>0.101813</td>\n",
       "      <td>2.731196</td>\n",
       "      <td>134.638259</td>\n",
       "      <td>9.090000e-146</td>\n",
       "      <td>3.777227</td>\n",
       "      <td>Near Colorless</td>\n",
       "      <td>0.013061</td>\n",
       "      <td>0.442986</td>\n",
       "      <td>...</td>\n",
       "      <td>4.114588</td>\n",
       "      <td>0.000002</td>\n",
       "      <td>387.377007</td>\n",
       "      <td>River</td>\n",
       "      <td>13.916335</td>\n",
       "      <td>83.007014</td>\n",
       "      <td>September</td>\n",
       "      <td>22.0</td>\n",
       "      <td>15.0</td>\n",
       "      <td>0</td>\n",
       "    </tr>\n",
       "    <tr>\n",
       "      <th>842371</th>\n",
       "      <td>842371</td>\n",
       "      <td>NaN</td>\n",
       "      <td>0.001671</td>\n",
       "      <td>9.919206</td>\n",
       "      <td>159.546392</td>\n",
       "      <td>2.260000e-105</td>\n",
       "      <td>0.020669</td>\n",
       "      <td>Colorless</td>\n",
       "      <td>0.000014</td>\n",
       "      <td>0.751325</td>\n",
       "      <td>...</td>\n",
       "      <td>3.180615</td>\n",
       "      <td>0.006501</td>\n",
       "      <td>179.277087</td>\n",
       "      <td>Reservoir</td>\n",
       "      <td>23.384669</td>\n",
       "      <td>68.848352</td>\n",
       "      <td>March</td>\n",
       "      <td>19.0</td>\n",
       "      <td>21.0</td>\n",
       "      <td>0</td>\n",
       "    </tr>\n",
       "    <tr>\n",
       "      <th>65068</th>\n",
       "      <td>65068</td>\n",
       "      <td>6.864011</td>\n",
       "      <td>0.000001</td>\n",
       "      <td>5.168602</td>\n",
       "      <td>100.731151</td>\n",
       "      <td>6.960000e-56</td>\n",
       "      <td>1.825587</td>\n",
       "      <td>Faint Yellow</td>\n",
       "      <td>0.729853</td>\n",
       "      <td>1.127861</td>\n",
       "      <td>...</td>\n",
       "      <td>3.196734</td>\n",
       "      <td>0.137451</td>\n",
       "      <td>54.821037</td>\n",
       "      <td>Reservoir</td>\n",
       "      <td>21.054455</td>\n",
       "      <td>61.088249</td>\n",
       "      <td>December</td>\n",
       "      <td>12.0</td>\n",
       "      <td>7.0</td>\n",
       "      <td>0</td>\n",
       "    </tr>\n",
       "  </tbody>\n",
       "</table>\n",
       "<p>5 rows × 24 columns</p>\n",
       "</div>"
      ],
      "text/plain": [
       "           Index         pH      Iron   Nitrate    Chloride           Lead  \\\n",
       "376073    376073   6.833363  0.068247  6.460843  189.068107   2.480000e-95   \n",
       "705030    705030  10.086205  0.453066  4.051497  116.887059  1.350000e-166   \n",
       "1023090  1023090   7.680894  0.101813  2.731196  134.638259  9.090000e-146   \n",
       "842371    842371        NaN  0.001671  9.919206  159.546392  2.260000e-105   \n",
       "65068      65068   6.864011  0.000001  5.168602  100.731151   6.960000e-56   \n",
       "\n",
       "             Zinc           Color  Turbidity  Fluoride  ...  Chlorine  \\\n",
       "376073   1.598219          Yellow   2.147577  0.444878  ...  3.755115   \n",
       "705030   1.049976    Faint Yellow   0.304679  0.298943  ...  4.764108   \n",
       "1023090  3.777227  Near Colorless   0.013061  0.442986  ...  4.114588   \n",
       "842371   0.020669       Colorless   0.000014  0.751325  ...  3.180615   \n",
       "65068    1.825587    Faint Yellow   0.729853  1.127861  ...  3.196734   \n",
       "\n",
       "         Manganese  Total Dissolved Solids     Source  Water Temperature  \\\n",
       "376073    0.124750              493.587600     Stream                NaN   \n",
       "705030    0.176982              100.901232       Lake          19.184595   \n",
       "1023090   0.000002              387.377007      River          13.916335   \n",
       "842371    0.006501              179.277087  Reservoir          23.384669   \n",
       "65068     0.137451               54.821037  Reservoir          21.054455   \n",
       "\n",
       "         Air Temperature      Month   Day  Time of Day  Target  \n",
       "376073         31.259679     August  28.0         18.0       1  \n",
       "705030         14.210674   February   7.0         15.0       1  \n",
       "1023090        83.007014  September  22.0         15.0       0  \n",
       "842371         68.848352      March  19.0         21.0       0  \n",
       "65068          61.088249   December  12.0          7.0       0  \n",
       "\n",
       "[5 rows x 24 columns]"
      ]
     },
     "execution_count": 2,
     "metadata": {},
     "output_type": "execute_result"
    }
   ],
   "source": [
    "df = pd.read_csv('Water Quality Prediction.csv')\n",
    "df.sample(5)"
   ]
  },
  {
   "cell_type": "code",
   "execution_count": 3,
   "id": "f9c62dd0-5e0a-421d-9df1-3d5f1fcf5dab",
   "metadata": {},
   "outputs": [
    {
     "data": {
      "text/plain": [
       "pH                        float64\n",
       "Iron                      float64\n",
       "Nitrate                   float64\n",
       "Chloride                  float64\n",
       "Lead                      float64\n",
       "Zinc                      float64\n",
       "Color                      object\n",
       "Turbidity                 float64\n",
       "Fluoride                  float64\n",
       "Copper                    float64\n",
       "Odor                      float64\n",
       "Sulfate                   float64\n",
       "Conductivity              float64\n",
       "Chlorine                  float64\n",
       "Manganese                 float64\n",
       "Total Dissolved Solids    float64\n",
       "Source                     object\n",
       "Water Temperature         float64\n",
       "Air Temperature           float64\n",
       "Month                      object\n",
       "Day                       float64\n",
       "Time of Day               float64\n",
       "Target                      int64\n",
       "dtype: object"
      ]
     },
     "execution_count": 3,
     "metadata": {},
     "output_type": "execute_result"
    }
   ],
   "source": [
    "df.drop('Index',axis='columns',inplace=True)\n",
    "df.dtypes"
   ]
  },
  {
   "cell_type": "code",
   "execution_count": 4,
   "id": "ea68288b-3cb6-44c3-81ff-dceb0e041f05",
   "metadata": {},
   "outputs": [
    {
     "data": {
      "text/plain": [
       "(1048575, 23)"
      ]
     },
     "execution_count": 4,
     "metadata": {},
     "output_type": "execute_result"
    }
   ],
   "source": [
    "df.shape"
   ]
  },
  {
   "cell_type": "code",
   "execution_count": 5,
   "id": "2a4e8131-ea0e-4ab4-9ec9-c826209c0f98",
   "metadata": {},
   "outputs": [
    {
     "data": {
      "text/plain": [
       "(701056, 23)"
      ]
     },
     "execution_count": 5,
     "metadata": {},
     "output_type": "execute_result"
    }
   ],
   "source": [
    "df.dropna(inplace=True)\n",
    "df.shape"
   ]
  },
  {
   "cell_type": "code",
   "execution_count": 6,
   "id": "e35b8fa2-c3df-49ab-ae4d-d5b3312b9bdb",
   "metadata": {},
   "outputs": [
    {
     "data": {
      "text/html": [
       "<div>\n",
       "<style scoped>\n",
       "    .dataframe tbody tr th:only-of-type {\n",
       "        vertical-align: middle;\n",
       "    }\n",
       "\n",
       "    .dataframe tbody tr th {\n",
       "        vertical-align: top;\n",
       "    }\n",
       "\n",
       "    .dataframe thead th {\n",
       "        text-align: right;\n",
       "    }\n",
       "</style>\n",
       "<table border=\"1\" class=\"dataframe\">\n",
       "  <thead>\n",
       "    <tr style=\"text-align: right;\">\n",
       "      <th></th>\n",
       "      <th>pH</th>\n",
       "      <th>Iron</th>\n",
       "      <th>Nitrate</th>\n",
       "      <th>Chloride</th>\n",
       "      <th>Lead</th>\n",
       "      <th>Zinc</th>\n",
       "      <th>Color</th>\n",
       "      <th>Turbidity</th>\n",
       "      <th>Fluoride</th>\n",
       "      <th>Copper</th>\n",
       "      <th>...</th>\n",
       "      <th>Chlorine</th>\n",
       "      <th>Manganese</th>\n",
       "      <th>Total Dissolved Solids</th>\n",
       "      <th>Source</th>\n",
       "      <th>Water Temperature</th>\n",
       "      <th>Air Temperature</th>\n",
       "      <th>Month</th>\n",
       "      <th>Day</th>\n",
       "      <th>Time of Day</th>\n",
       "      <th>Target</th>\n",
       "    </tr>\n",
       "  </thead>\n",
       "  <tbody>\n",
       "    <tr>\n",
       "      <th>30712</th>\n",
       "      <td>8.786481</td>\n",
       "      <td>3.270000e-07</td>\n",
       "      <td>5.771831</td>\n",
       "      <td>226.429299</td>\n",
       "      <td>2.700000e-32</td>\n",
       "      <td>2.985884</td>\n",
       "      <td>Near Colorless</td>\n",
       "      <td>0.034135</td>\n",
       "      <td>0.900604</td>\n",
       "      <td>0.047809</td>\n",
       "      <td>...</td>\n",
       "      <td>3.473937</td>\n",
       "      <td>1.797030e-01</td>\n",
       "      <td>133.417163</td>\n",
       "      <td>Ground</td>\n",
       "      <td>11.150752</td>\n",
       "      <td>50.913313</td>\n",
       "      <td>December</td>\n",
       "      <td>27.0</td>\n",
       "      <td>12.0</td>\n",
       "      <td>0</td>\n",
       "    </tr>\n",
       "    <tr>\n",
       "      <th>905802</th>\n",
       "      <td>7.462668</td>\n",
       "      <td>7.270000e-34</td>\n",
       "      <td>2.520004</td>\n",
       "      <td>172.765516</td>\n",
       "      <td>9.640000e-220</td>\n",
       "      <td>0.943362</td>\n",
       "      <td>Near Colorless</td>\n",
       "      <td>0.323466</td>\n",
       "      <td>1.342052</td>\n",
       "      <td>0.770589</td>\n",
       "      <td>...</td>\n",
       "      <td>3.021633</td>\n",
       "      <td>9.629690e-04</td>\n",
       "      <td>0.539966</td>\n",
       "      <td>River</td>\n",
       "      <td>21.133777</td>\n",
       "      <td>51.766385</td>\n",
       "      <td>June</td>\n",
       "      <td>25.0</td>\n",
       "      <td>6.0</td>\n",
       "      <td>0</td>\n",
       "    </tr>\n",
       "    <tr>\n",
       "      <th>892521</th>\n",
       "      <td>5.654033</td>\n",
       "      <td>2.040000e-05</td>\n",
       "      <td>8.740769</td>\n",
       "      <td>142.632251</td>\n",
       "      <td>8.940703e-02</td>\n",
       "      <td>3.904339</td>\n",
       "      <td>Faint Yellow</td>\n",
       "      <td>1.751498</td>\n",
       "      <td>0.265408</td>\n",
       "      <td>0.011941</td>\n",
       "      <td>...</td>\n",
       "      <td>3.421610</td>\n",
       "      <td>6.680000e-07</td>\n",
       "      <td>61.162697</td>\n",
       "      <td>Spring</td>\n",
       "      <td>4.716026</td>\n",
       "      <td>32.669435</td>\n",
       "      <td>November</td>\n",
       "      <td>29.0</td>\n",
       "      <td>21.0</td>\n",
       "      <td>0</td>\n",
       "    </tr>\n",
       "    <tr>\n",
       "      <th>683686</th>\n",
       "      <td>6.320083</td>\n",
       "      <td>2.276774e-03</td>\n",
       "      <td>7.348138</td>\n",
       "      <td>145.957495</td>\n",
       "      <td>5.699038e-02</td>\n",
       "      <td>0.082090</td>\n",
       "      <td>Colorless</td>\n",
       "      <td>0.184144</td>\n",
       "      <td>0.940219</td>\n",
       "      <td>0.047244</td>\n",
       "      <td>...</td>\n",
       "      <td>3.247815</td>\n",
       "      <td>2.263751e-02</td>\n",
       "      <td>548.880736</td>\n",
       "      <td>River</td>\n",
       "      <td>22.089384</td>\n",
       "      <td>53.576010</td>\n",
       "      <td>May</td>\n",
       "      <td>14.0</td>\n",
       "      <td>2.0</td>\n",
       "      <td>1</td>\n",
       "    </tr>\n",
       "    <tr>\n",
       "      <th>851787</th>\n",
       "      <td>7.572945</td>\n",
       "      <td>5.490000e-06</td>\n",
       "      <td>7.719984</td>\n",
       "      <td>140.635525</td>\n",
       "      <td>1.460000e-38</td>\n",
       "      <td>2.448920</td>\n",
       "      <td>Faint Yellow</td>\n",
       "      <td>1.007707</td>\n",
       "      <td>1.595544</td>\n",
       "      <td>0.197971</td>\n",
       "      <td>...</td>\n",
       "      <td>3.750985</td>\n",
       "      <td>1.830000e-08</td>\n",
       "      <td>16.610379</td>\n",
       "      <td>Ground</td>\n",
       "      <td>18.427378</td>\n",
       "      <td>19.779257</td>\n",
       "      <td>November</td>\n",
       "      <td>6.0</td>\n",
       "      <td>14.0</td>\n",
       "      <td>0</td>\n",
       "    </tr>\n",
       "  </tbody>\n",
       "</table>\n",
       "<p>5 rows × 23 columns</p>\n",
       "</div>"
      ],
      "text/plain": [
       "              pH          Iron   Nitrate    Chloride           Lead      Zinc  \\\n",
       "30712   8.786481  3.270000e-07  5.771831  226.429299   2.700000e-32  2.985884   \n",
       "905802  7.462668  7.270000e-34  2.520004  172.765516  9.640000e-220  0.943362   \n",
       "892521  5.654033  2.040000e-05  8.740769  142.632251   8.940703e-02  3.904339   \n",
       "683686  6.320083  2.276774e-03  7.348138  145.957495   5.699038e-02  0.082090   \n",
       "851787  7.572945  5.490000e-06  7.719984  140.635525   1.460000e-38  2.448920   \n",
       "\n",
       "                 Color  Turbidity  Fluoride    Copper  ...  Chlorine  \\\n",
       "30712   Near Colorless   0.034135  0.900604  0.047809  ...  3.473937   \n",
       "905802  Near Colorless   0.323466  1.342052  0.770589  ...  3.021633   \n",
       "892521    Faint Yellow   1.751498  0.265408  0.011941  ...  3.421610   \n",
       "683686       Colorless   0.184144  0.940219  0.047244  ...  3.247815   \n",
       "851787    Faint Yellow   1.007707  1.595544  0.197971  ...  3.750985   \n",
       "\n",
       "           Manganese  Total Dissolved Solids  Source  Water Temperature  \\\n",
       "30712   1.797030e-01              133.417163  Ground          11.150752   \n",
       "905802  9.629690e-04                0.539966   River          21.133777   \n",
       "892521  6.680000e-07               61.162697  Spring           4.716026   \n",
       "683686  2.263751e-02              548.880736   River          22.089384   \n",
       "851787  1.830000e-08               16.610379  Ground          18.427378   \n",
       "\n",
       "        Air Temperature     Month   Day  Time of Day Target  \n",
       "30712         50.913313  December  27.0         12.0      0  \n",
       "905802        51.766385      June  25.0          6.0      0  \n",
       "892521        32.669435  November  29.0         21.0      0  \n",
       "683686        53.576010       May  14.0          2.0      1  \n",
       "851787        19.779257  November   6.0         14.0      0  \n",
       "\n",
       "[5 rows x 23 columns]"
      ]
     },
     "execution_count": 6,
     "metadata": {},
     "output_type": "execute_result"
    }
   ],
   "source": [
    "df.sample(5)"
   ]
  },
  {
   "cell_type": "code",
   "execution_count": 7,
   "id": "692d66dc-e67d-434e-a22f-2027b58af577",
   "metadata": {},
   "outputs": [
    {
     "data": {
      "text/plain": [
       "pH                        float64\n",
       "Iron                      float64\n",
       "Nitrate                   float64\n",
       "Chloride                  float64\n",
       "Lead                      float64\n",
       "Zinc                      float64\n",
       "Color                      object\n",
       "Turbidity                 float64\n",
       "Fluoride                  float64\n",
       "Copper                    float64\n",
       "Odor                      float64\n",
       "Sulfate                   float64\n",
       "Conductivity              float64\n",
       "Chlorine                  float64\n",
       "Manganese                 float64\n",
       "Total Dissolved Solids    float64\n",
       "Source                     object\n",
       "Water Temperature         float64\n",
       "Air Temperature           float64\n",
       "Month                      object\n",
       "Day                       float64\n",
       "Time of Day               float64\n",
       "Target                      int64\n",
       "dtype: object"
      ]
     },
     "execution_count": 7,
     "metadata": {},
     "output_type": "execute_result"
    }
   ],
   "source": [
    "df.dtypes"
   ]
  },
  {
   "cell_type": "code",
   "execution_count": 8,
   "id": "68703804-892e-45af-bc9d-2bd1136e3a79",
   "metadata": {},
   "outputs": [
    {
     "name": "stdout",
     "output_type": "stream",
     "text": [
      "pH: [6.91786288 5.44376198 8.09190898 ... 8.04622539 7.44358155 6.8972316 ]\n",
      "Iron: [8.0500000e-05 2.0105859e-02 2.1671280e-03 ... 3.8233230e-03 1.9771575e-02\n",
      " 3.1030770e-03]\n",
      "Nitrate: [3.73416663 3.81699383 9.92578828 ... 3.6787141  7.89339917 5.75798011]\n",
      "Chloride: [227.0298509 230.9956297 186.5408724 ... 148.0531684 174.6778998\n",
      " 125.564223 ]\n",
      "Lead: [7.85e-094 5.29e-076 4.17e-132 ... 3.20e-218 6.82e-136 4.11e-139]\n",
      "Zinc: [1.24531707 0.52827971 3.80751128 ... 0.48336916 1.46165943 0.80458944]\n",
      "Color: ['Faint Yellow' 'Light Yellow' 'Colorless' 'Near Colorless' 'Yellow']\n",
      "Turbidity: [0.01900728 0.31995564 0.00486702 ... 0.87883516 0.70105335 0.15642365]\n",
      "Fluoride: [0.62287379 0.42342341 0.22291192 ... 1.20368865 0.11541216 0.55472904]\n",
      "Copper: [0.43783531 0.43158763 0.61657435 ... 0.17161017 0.6413786  0.01887529]\n",
      "Odor: [1.68604901 3.41461917 0.79531011 ... 0.89452798 3.15015355 1.997442  ]\n",
      "Sulfate: [144.0109807  275.7021072  175.2751746  ...  74.13305607 201.9776058\n",
      " 204.3917538 ]\n",
      "Conductivity: [432.8449082 990.2012087 385.0258554 ... 124.8286627 337.6303566\n",
      " 569.0777473]\n",
      "Chlorine: [3.29203779 3.56022434 3.17784947 ... 2.31205803 3.41029732 2.80323445]\n",
      "Manganese: [8.0200000e-07 7.0079894e-02 3.2961390e-03 ... 1.9072300e-04 2.6039629e-02\n",
      " 4.4278298e-02]\n",
      "Total Dissolved Solids: [284.6419843 570.0540943 168.0755446 ... 406.0959694 439.086461\n",
      " 278.0510315]\n",
      "Source: ['Lake' 'River' 'Spring' 'Ground' 'Stream' 'Reservoir' 'Aquifer' 'Well']\n",
      "Water Temperature: [15.34898067 11.64346697 15.24941574 ... 10.14376847 14.61288085\n",
      "  7.35195632]\n",
      "Air Temperature: [71.22058602 44.89132961 69.33667064 ... 34.62685307 55.46041543\n",
      " 65.05586392]\n",
      "Month: ['November' 'January' 'June' 'April' 'July' 'March' 'October' 'December'\n",
      " 'August' 'September' 'May' 'February']\n",
      "Day: [26. 31. 29. 11.  7. 13. 19. 17. 20. 16. 15. 28. 18. 23.  9.  8. 12. 30.\n",
      " 24. 14.  2.  4.  5. 21. 10.  1. 27. 25.  6.  3. 22.]\n",
      "Time of Day: [16.  8.  7.  4. 12. 23.  0.  5. 11. 10. 13.  6. 18.  9. 22.  3.  2. 19.\n",
      " 15. 20. 17. 14.  1. 21.]\n",
      "Target: [0 1]\n"
     ]
    }
   ],
   "source": [
    "def unique_values(df):\n",
    "    for col in df:\n",
    "        print(f'{col}: {df[col].unique()}')\n",
    "unique_values(df)"
   ]
  },
  {
   "cell_type": "markdown",
   "id": "3f98f779-c85c-4c21-93fe-fd44e7dbcc0f",
   "metadata": {},
   "source": [
    "### Scaling the data to make it between 0 and 1"
   ]
  },
  {
   "cell_type": "code",
   "execution_count": 9,
   "id": "399ae701-d58f-453d-84ed-97e2e06ec040",
   "metadata": {},
   "outputs": [],
   "source": [
    "cols_to_scale = []\n",
    "for col in df:\n",
    "    if df[col].dtype == 'float64':\n",
    "        cols_to_scale.append(col)"
   ]
  },
  {
   "cell_type": "code",
   "execution_count": 10,
   "id": "dbb247ca-c025-433a-afa2-d016367dc309",
   "metadata": {},
   "outputs": [
    {
     "data": {
      "text/plain": [
       "['pH',\n",
       " 'Iron',\n",
       " 'Nitrate',\n",
       " 'Chloride',\n",
       " 'Lead',\n",
       " 'Zinc',\n",
       " 'Turbidity',\n",
       " 'Fluoride',\n",
       " 'Copper',\n",
       " 'Odor',\n",
       " 'Sulfate',\n",
       " 'Conductivity',\n",
       " 'Chlorine',\n",
       " 'Manganese',\n",
       " 'Total Dissolved Solids',\n",
       " 'Water Temperature',\n",
       " 'Air Temperature',\n",
       " 'Day',\n",
       " 'Time of Day']"
      ]
     },
     "execution_count": 10,
     "metadata": {},
     "output_type": "execute_result"
    }
   ],
   "source": [
    "cols_to_scale"
   ]
  },
  {
   "cell_type": "code",
   "execution_count": 11,
   "id": "43e89b25-1ca4-4039-9a3b-a4066a99282d",
   "metadata": {},
   "outputs": [],
   "source": [
    "from sklearn.preprocessing import MinMaxScaler\n",
    "scaler = MinMaxScaler()\n",
    "df[cols_to_scale] = scaler.fit_transform(df[cols_to_scale])"
   ]
  },
  {
   "cell_type": "code",
   "execution_count": 12,
   "id": "10328ab6-ee8f-4f8c-8d1d-09ac1b481b3a",
   "metadata": {},
   "outputs": [
    {
     "name": "stdout",
     "output_type": "stream",
     "text": [
      "pH: [0.44857634 0.31251326 0.55694364 ... 0.55272693 0.49710145 0.44667203]\n",
      "Iron: [5.11156459e-06 1.27667574e-03 1.37607637e-04 ... 2.42772204e-04\n",
      " 1.25544947e-03 1.97038242e-04]\n",
      "Nitrate: [0.04965066 0.05084337 0.13880921 ... 0.04885216 0.10954307 0.07879332]\n",
      "Chloride: [0.14104016 0.14387056 0.1121429  ... 0.08467395 0.10367621 0.06862344]\n",
      "Lead: [2.24033020e-094 1.50972570e-076 1.19008623e-132 ... 9.13255624e-219\n",
      " 1.94637605e-136 1.17296269e-139]\n",
      "Zinc: [0.04389759 0.01862192 0.13421533 ... 0.01703881 0.0515237  0.02836188]\n",
      "Color: ['Faint Yellow' 'Light Yellow' 'Colorless' 'Near Colorless' 'Yellow']\n",
      "Turbidity: [0.00098503 0.01658135 0.00025223 ... 0.04554467 0.03633132 0.00810648]\n",
      "Fluoride: [0.04846588 0.03294651 0.01734458 ... 0.09365949 0.00897995 0.04316349]\n",
      "Copper: [0.04085306 0.0402701  0.05753064 ... 0.01601241 0.05984505 0.00176119]\n",
      "Odor: [0.40548646 0.82393058 0.18986059 ... 0.21387878 0.75990999 0.48086701]\n",
      "Sulfate: [0.09741946 0.19455926 0.12048098 ... 0.04587515 0.14017759 0.14195835]\n",
      "Conductivity: [0.22347555 0.52018457 0.19801904 ... 0.05950288 0.17278802 0.2959992 ]\n",
      "Chlorine: [0.24346427 0.27220587 0.23122669 ... 0.1384397  0.25613817 0.19107915]\n",
      "Manganese: [3.37814215e-08 2.95186838e-03 1.38838231e-04 ... 8.03353374e-06\n",
      " 1.09682754e-03 1.86506714e-03]\n",
      "Total Dissolved Solids: [0.49092109 0.98319148 0.28987073 ... 0.70040134 0.75730237 0.47955321]\n",
      "Source: ['Lake' 'River' 'Spring' 'Ground' 'Stream' 'Reservoir' 'Aquifer' 'Well']\n",
      "Water Temperature: [0.06716719 0.0494838  0.06669205 ... 0.04232696 0.06365439 0.02900392]\n",
      "Air Temperature: [0.60139395 0.45072282 0.5906131  ... 0.39198358 0.5112052  0.56611587]\n",
      "Month: ['November' 'January' 'June' 'April' 'July' 'March' 'October' 'December'\n",
      " 'August' 'September' 'May' 'February']\n",
      "Day: [0.83333333 1.         0.93333333 0.33333333 0.2        0.4\n",
      " 0.6        0.53333333 0.63333333 0.5        0.46666667 0.9\n",
      " 0.56666667 0.73333333 0.26666667 0.23333333 0.36666667 0.96666667\n",
      " 0.76666667 0.43333333 0.03333333 0.1        0.13333333 0.66666667\n",
      " 0.3        0.         0.86666667 0.8        0.16666667 0.06666667\n",
      " 0.7       ]\n",
      "Time of Day: [0.69565217 0.34782609 0.30434783 0.17391304 0.52173913 1.\n",
      " 0.         0.2173913  0.47826087 0.43478261 0.56521739 0.26086957\n",
      " 0.7826087  0.39130435 0.95652174 0.13043478 0.08695652 0.82608696\n",
      " 0.65217391 0.86956522 0.73913043 0.60869565 0.04347826 0.91304348]\n",
      "Target: [0 1]\n"
     ]
    }
   ],
   "source": [
    "unique_values(df)"
   ]
  },
  {
   "cell_type": "markdown",
   "id": "25c9cbc1-1b06-420e-bbde-790c3085831c",
   "metadata": {},
   "source": [
    "### One hot encoding object type values"
   ]
  },
  {
   "cell_type": "code",
   "execution_count": 13,
   "id": "29359922-2221-4a10-8d1d-99702354d9cc",
   "metadata": {},
   "outputs": [
    {
     "data": {
      "text/html": [
       "<div>\n",
       "<style scoped>\n",
       "    .dataframe tbody tr th:only-of-type {\n",
       "        vertical-align: middle;\n",
       "    }\n",
       "\n",
       "    .dataframe tbody tr th {\n",
       "        vertical-align: top;\n",
       "    }\n",
       "\n",
       "    .dataframe thead th {\n",
       "        text-align: right;\n",
       "    }\n",
       "</style>\n",
       "<table border=\"1\" class=\"dataframe\">\n",
       "  <thead>\n",
       "    <tr style=\"text-align: right;\">\n",
       "      <th></th>\n",
       "      <th>pH</th>\n",
       "      <th>Iron</th>\n",
       "      <th>Nitrate</th>\n",
       "      <th>Chloride</th>\n",
       "      <th>Lead</th>\n",
       "      <th>Zinc</th>\n",
       "      <th>Turbidity</th>\n",
       "      <th>Fluoride</th>\n",
       "      <th>Copper</th>\n",
       "      <th>Odor</th>\n",
       "      <th>...</th>\n",
       "      <th>Month_December</th>\n",
       "      <th>Month_February</th>\n",
       "      <th>Month_January</th>\n",
       "      <th>Month_July</th>\n",
       "      <th>Month_June</th>\n",
       "      <th>Month_March</th>\n",
       "      <th>Month_May</th>\n",
       "      <th>Month_November</th>\n",
       "      <th>Month_October</th>\n",
       "      <th>Month_September</th>\n",
       "    </tr>\n",
       "  </thead>\n",
       "  <tbody>\n",
       "    <tr>\n",
       "      <th>949400</th>\n",
       "      <td>0.528321</td>\n",
       "      <td>3.854310e-06</td>\n",
       "      <td>0.039122</td>\n",
       "      <td>0.096761</td>\n",
       "      <td>1.141570e-23</td>\n",
       "      <td>0.059467</td>\n",
       "      <td>2.826430e-02</td>\n",
       "      <td>0.107902</td>\n",
       "      <td>0.003883</td>\n",
       "      <td>0.527734</td>\n",
       "      <td>...</td>\n",
       "      <td>False</td>\n",
       "      <td>False</td>\n",
       "      <td>False</td>\n",
       "      <td>False</td>\n",
       "      <td>False</td>\n",
       "      <td>False</td>\n",
       "      <td>False</td>\n",
       "      <td>False</td>\n",
       "      <td>True</td>\n",
       "      <td>False</td>\n",
       "    </tr>\n",
       "    <tr>\n",
       "      <th>99027</th>\n",
       "      <td>0.511350</td>\n",
       "      <td>8.055000e-06</td>\n",
       "      <td>0.043354</td>\n",
       "      <td>0.080483</td>\n",
       "      <td>1.746601e-14</td>\n",
       "      <td>0.044586</td>\n",
       "      <td>1.157842e-02</td>\n",
       "      <td>0.013413</td>\n",
       "      <td>0.040238</td>\n",
       "      <td>0.125442</td>\n",
       "      <td>...</td>\n",
       "      <td>False</td>\n",
       "      <td>False</td>\n",
       "      <td>False</td>\n",
       "      <td>False</td>\n",
       "      <td>False</td>\n",
       "      <td>True</td>\n",
       "      <td>False</td>\n",
       "      <td>False</td>\n",
       "      <td>False</td>\n",
       "      <td>False</td>\n",
       "    </tr>\n",
       "    <tr>\n",
       "      <th>567492</th>\n",
       "      <td>0.548909</td>\n",
       "      <td>2.555939e-03</td>\n",
       "      <td>0.072847</td>\n",
       "      <td>0.131023</td>\n",
       "      <td>4.452121e-24</td>\n",
       "      <td>0.029482</td>\n",
       "      <td>7.307171e-07</td>\n",
       "      <td>0.076306</td>\n",
       "      <td>0.001795</td>\n",
       "      <td>0.054523</td>\n",
       "      <td>...</td>\n",
       "      <td>False</td>\n",
       "      <td>True</td>\n",
       "      <td>False</td>\n",
       "      <td>False</td>\n",
       "      <td>False</td>\n",
       "      <td>False</td>\n",
       "      <td>False</td>\n",
       "      <td>False</td>\n",
       "      <td>False</td>\n",
       "      <td>False</td>\n",
       "    </tr>\n",
       "    <tr>\n",
       "      <th>938073</th>\n",
       "      <td>0.430974</td>\n",
       "      <td>7.846151e-04</td>\n",
       "      <td>0.088208</td>\n",
       "      <td>0.123638</td>\n",
       "      <td>1.287120e-85</td>\n",
       "      <td>0.016346</td>\n",
       "      <td>6.581636e-07</td>\n",
       "      <td>0.074569</td>\n",
       "      <td>0.006134</td>\n",
       "      <td>0.461968</td>\n",
       "      <td>...</td>\n",
       "      <td>False</td>\n",
       "      <td>False</td>\n",
       "      <td>True</td>\n",
       "      <td>False</td>\n",
       "      <td>False</td>\n",
       "      <td>False</td>\n",
       "      <td>False</td>\n",
       "      <td>False</td>\n",
       "      <td>False</td>\n",
       "      <td>False</td>\n",
       "    </tr>\n",
       "    <tr>\n",
       "      <th>192692</th>\n",
       "      <td>0.555598</td>\n",
       "      <td>1.511245e-10</td>\n",
       "      <td>0.040127</td>\n",
       "      <td>0.130200</td>\n",
       "      <td>2.445813e-160</td>\n",
       "      <td>0.059416</td>\n",
       "      <td>3.213073e-02</td>\n",
       "      <td>0.025843</td>\n",
       "      <td>0.025910</td>\n",
       "      <td>0.272888</td>\n",
       "      <td>...</td>\n",
       "      <td>False</td>\n",
       "      <td>False</td>\n",
       "      <td>False</td>\n",
       "      <td>False</td>\n",
       "      <td>True</td>\n",
       "      <td>False</td>\n",
       "      <td>False</td>\n",
       "      <td>False</td>\n",
       "      <td>False</td>\n",
       "      <td>False</td>\n",
       "    </tr>\n",
       "  </tbody>\n",
       "</table>\n",
       "<p>5 rows × 45 columns</p>\n",
       "</div>"
      ],
      "text/plain": [
       "              pH          Iron   Nitrate  Chloride           Lead      Zinc  \\\n",
       "949400  0.528321  3.854310e-06  0.039122  0.096761   1.141570e-23  0.059467   \n",
       "99027   0.511350  8.055000e-06  0.043354  0.080483   1.746601e-14  0.044586   \n",
       "567492  0.548909  2.555939e-03  0.072847  0.131023   4.452121e-24  0.029482   \n",
       "938073  0.430974  7.846151e-04  0.088208  0.123638   1.287120e-85  0.016346   \n",
       "192692  0.555598  1.511245e-10  0.040127  0.130200  2.445813e-160  0.059416   \n",
       "\n",
       "           Turbidity  Fluoride    Copper      Odor  ...  Month_December  \\\n",
       "949400  2.826430e-02  0.107902  0.003883  0.527734  ...           False   \n",
       "99027   1.157842e-02  0.013413  0.040238  0.125442  ...           False   \n",
       "567492  7.307171e-07  0.076306  0.001795  0.054523  ...           False   \n",
       "938073  6.581636e-07  0.074569  0.006134  0.461968  ...           False   \n",
       "192692  3.213073e-02  0.025843  0.025910  0.272888  ...           False   \n",
       "\n",
       "        Month_February  Month_January  Month_July  Month_June  Month_March  \\\n",
       "949400           False          False       False       False        False   \n",
       "99027            False          False       False       False         True   \n",
       "567492            True          False       False       False        False   \n",
       "938073           False           True       False       False        False   \n",
       "192692           False          False       False        True        False   \n",
       "\n",
       "        Month_May  Month_November  Month_October  Month_September  \n",
       "949400      False           False           True            False  \n",
       "99027       False           False          False            False  \n",
       "567492      False           False          False            False  \n",
       "938073      False           False          False            False  \n",
       "192692      False           False          False            False  \n",
       "\n",
       "[5 rows x 45 columns]"
      ]
     },
     "execution_count": 13,
     "metadata": {},
     "output_type": "execute_result"
    }
   ],
   "source": [
    "df2 = pd.get_dummies(data=df, columns=['Color', 'Source', 'Month'])\n",
    "df2.sample(5)"
   ]
  },
  {
   "cell_type": "code",
   "execution_count": 14,
   "id": "7be6ad32-9133-48da-a867-04b5bb903cfd",
   "metadata": {},
   "outputs": [
    {
     "data": {
      "text/plain": [
       "pH                        float64\n",
       "Iron                      float64\n",
       "Nitrate                   float64\n",
       "Chloride                  float64\n",
       "Lead                      float64\n",
       "Zinc                      float64\n",
       "Turbidity                 float64\n",
       "Fluoride                  float64\n",
       "Copper                    float64\n",
       "Odor                      float64\n",
       "Sulfate                   float64\n",
       "Conductivity              float64\n",
       "Chlorine                  float64\n",
       "Manganese                 float64\n",
       "Total Dissolved Solids    float64\n",
       "Water Temperature         float64\n",
       "Air Temperature           float64\n",
       "Day                       float64\n",
       "Time of Day               float64\n",
       "Target                      int64\n",
       "Color_Colorless             int64\n",
       "Color_Faint Yellow          int64\n",
       "Color_Light Yellow          int64\n",
       "Color_Near Colorless        int64\n",
       "Color_Yellow                int64\n",
       "Source_Aquifer              int64\n",
       "Source_Ground               int64\n",
       "Source_Lake                 int64\n",
       "Source_Reservoir            int64\n",
       "Source_River                int64\n",
       "Source_Spring               int64\n",
       "Source_Stream               int64\n",
       "Source_Well                 int64\n",
       "Month_April                 int64\n",
       "Month_August                int64\n",
       "Month_December              int64\n",
       "Month_February              int64\n",
       "Month_January               int64\n",
       "Month_July                  int64\n",
       "Month_June                  int64\n",
       "Month_March                 int64\n",
       "Month_May                   int64\n",
       "Month_November              int64\n",
       "Month_October               int64\n",
       "Month_September             int64\n",
       "dtype: object"
      ]
     },
     "execution_count": 14,
     "metadata": {},
     "output_type": "execute_result"
    }
   ],
   "source": [
    "df2.replace(True,1,inplace=True)\n",
    "df2.replace(False,0,inplace=True)\n",
    "df2.dtypes"
   ]
  },
  {
   "cell_type": "code",
   "execution_count": 15,
   "id": "5be4efd8-c686-4687-a8be-b4254077bad3",
   "metadata": {},
   "outputs": [
    {
     "name": "stdout",
     "output_type": "stream",
     "text": [
      "pH: [0.44857634 0.31251326 0.55694364 ... 0.55272693 0.49710145 0.44667203]\n",
      "Iron: [5.11156459e-06 1.27667574e-03 1.37607637e-04 ... 2.42772204e-04\n",
      " 1.25544947e-03 1.97038242e-04]\n",
      "Nitrate: [0.04965066 0.05084337 0.13880921 ... 0.04885216 0.10954307 0.07879332]\n",
      "Chloride: [0.14104016 0.14387056 0.1121429  ... 0.08467395 0.10367621 0.06862344]\n",
      "Lead: [2.24033020e-094 1.50972570e-076 1.19008623e-132 ... 9.13255624e-219\n",
      " 1.94637605e-136 1.17296269e-139]\n",
      "Zinc: [0.04389759 0.01862192 0.13421533 ... 0.01703881 0.0515237  0.02836188]\n",
      "Turbidity: [0.00098503 0.01658135 0.00025223 ... 0.04554467 0.03633132 0.00810648]\n",
      "Fluoride: [0.04846588 0.03294651 0.01734458 ... 0.09365949 0.00897995 0.04316349]\n",
      "Copper: [0.04085306 0.0402701  0.05753064 ... 0.01601241 0.05984505 0.00176119]\n",
      "Odor: [0.40548646 0.82393058 0.18986059 ... 0.21387878 0.75990999 0.48086701]\n",
      "Sulfate: [0.09741946 0.19455926 0.12048098 ... 0.04587515 0.14017759 0.14195835]\n",
      "Conductivity: [0.22347555 0.52018457 0.19801904 ... 0.05950288 0.17278802 0.2959992 ]\n",
      "Chlorine: [0.24346427 0.27220587 0.23122669 ... 0.1384397  0.25613817 0.19107915]\n",
      "Manganese: [3.37814215e-08 2.95186838e-03 1.38838231e-04 ... 8.03353374e-06\n",
      " 1.09682754e-03 1.86506714e-03]\n",
      "Total Dissolved Solids: [0.49092109 0.98319148 0.28987073 ... 0.70040134 0.75730237 0.47955321]\n",
      "Water Temperature: [0.06716719 0.0494838  0.06669205 ... 0.04232696 0.06365439 0.02900392]\n",
      "Air Temperature: [0.60139395 0.45072282 0.5906131  ... 0.39198358 0.5112052  0.56611587]\n",
      "Day: [0.83333333 1.         0.93333333 0.33333333 0.2        0.4\n",
      " 0.6        0.53333333 0.63333333 0.5        0.46666667 0.9\n",
      " 0.56666667 0.73333333 0.26666667 0.23333333 0.36666667 0.96666667\n",
      " 0.76666667 0.43333333 0.03333333 0.1        0.13333333 0.66666667\n",
      " 0.3        0.         0.86666667 0.8        0.16666667 0.06666667\n",
      " 0.7       ]\n",
      "Time of Day: [0.69565217 0.34782609 0.30434783 0.17391304 0.52173913 1.\n",
      " 0.         0.2173913  0.47826087 0.43478261 0.56521739 0.26086957\n",
      " 0.7826087  0.39130435 0.95652174 0.13043478 0.08695652 0.82608696\n",
      " 0.65217391 0.86956522 0.73913043 0.60869565 0.04347826 0.91304348]\n",
      "Target: [0 1]\n",
      "Color_Colorless: [0 1]\n",
      "Color_Faint Yellow: [1 0]\n",
      "Color_Light Yellow: [0 1]\n",
      "Color_Near Colorless: [0 1]\n",
      "Color_Yellow: [0 1]\n",
      "Source_Aquifer: [0 1]\n",
      "Source_Ground: [0 1]\n",
      "Source_Lake: [1 0]\n",
      "Source_Reservoir: [0 1]\n",
      "Source_River: [0 1]\n",
      "Source_Spring: [0 1]\n",
      "Source_Stream: [0 1]\n",
      "Source_Well: [0 1]\n",
      "Month_April: [0 1]\n",
      "Month_August: [0 1]\n",
      "Month_December: [0 1]\n",
      "Month_February: [0 1]\n",
      "Month_January: [0 1]\n",
      "Month_July: [0 1]\n",
      "Month_June: [0 1]\n",
      "Month_March: [0 1]\n",
      "Month_May: [0 1]\n",
      "Month_November: [1 0]\n",
      "Month_October: [0 1]\n",
      "Month_September: [0 1]\n"
     ]
    }
   ],
   "source": [
    "unique_values(df2)"
   ]
  },
  {
   "cell_type": "code",
   "execution_count": 16,
   "id": "3b4a6de2-9644-4920-8912-485dc6310d76",
   "metadata": {},
   "outputs": [],
   "source": [
    "x = df2.drop('Target',axis='columns')\n",
    "y = df2.Target"
   ]
  },
  {
   "cell_type": "code",
   "execution_count": 17,
   "id": "f25366c5-a67a-4b9d-990d-dc7c17dbb221",
   "metadata": {},
   "outputs": [
    {
     "data": {
      "text/plain": [
       "Target\n",
       "0    539773\n",
       "1    161283\n",
       "Name: count, dtype: int64"
      ]
     },
     "execution_count": 17,
     "metadata": {},
     "output_type": "execute_result"
    }
   ],
   "source": [
    "y.value_counts()"
   ]
  },
  {
   "cell_type": "markdown",
   "id": "1ac3ccec-fe61-4afa-8de0-e778bb8e2d85",
   "metadata": {},
   "source": [
    "### There is significant diff between 0 and 1 so we will use SMOTE to make this a balanced set"
   ]
  },
  {
   "cell_type": "code",
   "execution_count": 18,
   "id": "7d283567-0695-4def-b7ee-a77a663433d6",
   "metadata": {},
   "outputs": [],
   "source": [
    "from imblearn.over_sampling import SMOTE\n",
    "smote = SMOTE(sampling_strategy='minority')"
   ]
  },
  {
   "cell_type": "code",
   "execution_count": 19,
   "id": "3d597809-3fd1-400b-b400-aadf9068ba87",
   "metadata": {},
   "outputs": [
    {
     "data": {
      "text/plain": [
       "Target\n",
       "0    539773\n",
       "1    539773\n",
       "Name: count, dtype: int64"
      ]
     },
     "execution_count": 19,
     "metadata": {},
     "output_type": "execute_result"
    }
   ],
   "source": [
    "x_sm, y_sm = smote.fit_resample(x,y)\n",
    "y_sm.value_counts()"
   ]
  },
  {
   "cell_type": "code",
   "execution_count": 20,
   "id": "615ce35c-e240-40a8-9302-9d4b5d05971e",
   "metadata": {},
   "outputs": [],
   "source": [
    "from sklearn.model_selection import train_test_split\n",
    "x_train, x_test, y_train, y_test = train_test_split(x_sm, y_sm, test_size=0.2, stratify=y_sm)"
   ]
  },
  {
   "cell_type": "code",
   "execution_count": 21,
   "id": "8e78908f-922e-45f6-aa23-8a0af7bf22e7",
   "metadata": {},
   "outputs": [
    {
     "data": {
      "text/plain": [
       "((863636, 44), (215910, 44))"
      ]
     },
     "execution_count": 21,
     "metadata": {},
     "output_type": "execute_result"
    }
   ],
   "source": [
    "x_train.shape, x_test.shape"
   ]
  },
  {
   "cell_type": "code",
   "execution_count": 22,
   "id": "8b6cd7db-6623-4359-ae57-87d161c19a53",
   "metadata": {},
   "outputs": [
    {
     "data": {
      "text/plain": [
       "(Target\n",
       " 1    431818\n",
       " 0    431818\n",
       " Name: count, dtype: int64,\n",
       " Target\n",
       " 1    107955\n",
       " 0    107955\n",
       " Name: count, dtype: int64)"
      ]
     },
     "execution_count": 22,
     "metadata": {},
     "output_type": "execute_result"
    }
   ],
   "source": [
    "y_train.value_counts(), y_test.value_counts()"
   ]
  },
  {
   "cell_type": "markdown",
   "id": "4dd21421-6682-4908-bf88-be5a941fc0f5",
   "metadata": {},
   "source": [
    "### Training the model"
   ]
  },
  {
   "cell_type": "code",
   "execution_count": 23,
   "id": "ee4424b4-8c89-4a70-8d67-41282e9c217c",
   "metadata": {},
   "outputs": [],
   "source": [
    "model = keras.Sequential()\n",
    "model.add(keras.layers.Flatten(input_shape=(44,)))\n",
    "model.add(keras.layers.Dense(100, activation='relu'))\n",
    "model.add(keras.layers.Dense(200, activation='relu'))\n",
    "model.add(keras.layers.Dropout(0.4))\n",
    "model.add(keras.layers.Dense(100,activation='relu'))\n",
    "model.add(keras.layers.Dropout(0.4))\n",
    "model.add(keras.layers.Dense(1,activation='sigmoid'))"
   ]
  },
  {
   "cell_type": "code",
   "execution_count": 24,
   "id": "a375bd1c-25ad-41df-acc9-eb9a8bdfaee6",
   "metadata": {},
   "outputs": [],
   "source": [
    "model.compile(optimizer='SGD', metrics=['accuracy'], loss='binary_crossentropy')"
   ]
  },
  {
   "cell_type": "code",
   "execution_count": 25,
   "id": "ed284aa5-89ee-4e3e-b358-ea321418ff7d",
   "metadata": {
    "scrolled": true
   },
   "outputs": [
    {
     "name": "stdout",
     "output_type": "stream",
     "text": [
      "Epoch 1/10\n",
      "26989/26989 [==============================] - 72s 3ms/step - loss: 0.5278 - accuracy: 0.7496\n",
      "Epoch 2/10\n",
      "26989/26989 [==============================] - 70s 3ms/step - loss: 0.4561 - accuracy: 0.8059\n",
      "Epoch 3/10\n",
      "26989/26989 [==============================] - 70s 3ms/step - loss: 0.4364 - accuracy: 0.8181\n",
      "Epoch 4/10\n",
      "26989/26989 [==============================] - 70s 3ms/step - loss: 0.4150 - accuracy: 0.8302\n",
      "Epoch 5/10\n",
      "26989/26989 [==============================] - 71s 3ms/step - loss: 0.3988 - accuracy: 0.8394\n",
      "Epoch 6/10\n",
      "26989/26989 [==============================] - 76s 3ms/step - loss: 0.3907 - accuracy: 0.8444\n",
      "Epoch 7/10\n",
      "26989/26989 [==============================] - 75s 3ms/step - loss: 0.3849 - accuracy: 0.8481\n",
      "Epoch 8/10\n",
      "26989/26989 [==============================] - 77s 3ms/step - loss: 0.3802 - accuracy: 0.8505\n",
      "Epoch 9/10\n",
      "26989/26989 [==============================] - 77s 3ms/step - loss: 0.3763 - accuracy: 0.8529\n",
      "Epoch 10/10\n",
      "26989/26989 [==============================] - 75s 3ms/step - loss: 0.3731 - accuracy: 0.8544\n"
     ]
    },
    {
     "data": {
      "text/plain": [
       "<keras.callbacks.History at 0x24c307e0c40>"
      ]
     },
     "execution_count": 25,
     "metadata": {},
     "output_type": "execute_result"
    }
   ],
   "source": [
    "model.fit(x_train,y_train,epochs=10)"
   ]
  },
  {
   "cell_type": "markdown",
   "id": "abe93863-21f1-485d-9e64-c8d4c31b6e86",
   "metadata": {},
   "source": [
    "### Accuracy Calculation"
   ]
  },
  {
   "cell_type": "code",
   "execution_count": 26,
   "id": "af8b0168-53a7-464a-825a-69f7e5245ce1",
   "metadata": {},
   "outputs": [
    {
     "name": "stdout",
     "output_type": "stream",
     "text": [
      "6748/6748 [==============================] - 14s 2ms/step - loss: 0.3585 - accuracy: 0.8605\n"
     ]
    },
    {
     "data": {
      "text/plain": [
       "[0.35847872495651245, 0.8605483770370483]"
      ]
     },
     "execution_count": 26,
     "metadata": {},
     "output_type": "execute_result"
    }
   ],
   "source": [
    "model.evaluate(x_test,y_test)"
   ]
  },
  {
   "cell_type": "code",
   "execution_count": 31,
   "id": "8c1da142-6573-47cf-a177-bb02472195b4",
   "metadata": {},
   "outputs": [
    {
     "name": "stdout",
     "output_type": "stream",
     "text": [
      "6748/6748 [==============================] - 6s 871us/step\n",
      "              precision    recall  f1-score   support\n",
      "\n",
      "           0       0.90      0.81      0.85    107955\n",
      "           1       0.83      0.91      0.87    107955\n",
      "\n",
      "    accuracy                           0.86    215910\n",
      "   macro avg       0.86      0.86      0.86    215910\n",
      "weighted avg       0.86      0.86      0.86    215910\n",
      "\n"
     ]
    }
   ],
   "source": [
    "yp = model.predict(x_test)\n",
    "yp_int = [1 if i > 0.5 else 0 for i in yp]  # Fixed the syntax here\n",
    "print(classification_report(y_test, yp_int))"
   ]
  },
  {
   "cell_type": "code",
   "execution_count": 32,
   "id": "31031627-9813-4009-8c18-c22deb21a048",
   "metadata": {},
   "outputs": [
    {
     "data": {
      "text/plain": [
       "Text(95.72222222222221, 0.5, 'Truth')"
      ]
     },
     "execution_count": 32,
     "metadata": {},
     "output_type": "execute_result"
    },
    {
     "data": {
      "image/png": "[encoded data removed]",
      "text/plain": [
       "<Figure size 1000x700 with 2 Axes>"
      ]
     },
     "metadata": {},
     "output_type": "display_data"
    }
   ],
   "source": [
    "import matplotlib.pyplot as plt\n",
    "import seaborn as sb\n",
    "cm = tf.math.confusion_matrix(labels=y_test,predictions=yp_int)\n",
    "plt.figure(figsize = (10,7))\n",
    "sb.heatmap(cm,annot=True,fmt='d')\n",
    "plt.xlabel('Predicted')\n",
    "plt.ylabel('Truth')"
   ]
  },
  {
   "cell_type": "code",
   "execution_count": null,
   "id": "0389b3ed-5aa7-4c54-9ad1-bcaab5124b64",
   "metadata": {},
   "outputs": [],
   "source": []
  }
 ],
 "metadata": {
  "kernelspec": {
   "display_name": "Python 3 (ipykernel)",
   "language": "python",
   "name": "python3"
  },
  "language_info": {
   "codemirror_mode": {
    "name": "ipython",
    "version": 3
   },
   "file_extension": ".py",
   "mimetype": "text/x-python",
   "name": "python",
   "nbconvert_exporter": "python",
   "pygments_lexer": "ipython3",
   "version": "3.9.17"
  }
 },
 "nbformat": 4,
 "nbformat_minor": 5
}
